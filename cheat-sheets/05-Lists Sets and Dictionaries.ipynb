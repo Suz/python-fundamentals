{
 "metadata": {
  "name": ""
 },
 "nbformat": 3,
 "nbformat_minor": 0,
 "worksheets": [
  {
   "cells": [
    {
     "cell_type": "markdown",
     "metadata": {},
     "source": [
      "# Compound Data Types: Lists, Dictionaries, Sets, Tuples, and Reading Files"
     ]
    },
    {
     "cell_type": "markdown",
     "metadata": {},
     "source": [
      "\n",
      "**Based on lecture materials by Milad Fatenejad, Joshua R. Smith, and Will Trimble**\n",
      "\n",
      "The ability to refer to *collections* of data will be critical to almost any science - at least if you're collecting more than a single measurement of something.\n",
      "\n",
      "The two main collections are **lists** and **dictionaries**, but I'll mention **sets** and **tuples** as well. I'll also go over reading text data from files. "
     ]
    },
    {
     "cell_type": "markdown",
     "metadata": {},
     "source": [
      "## Lists\n",
      "\n",
      "A list is an ordered, indexable collection of data. Lets say you have collected some current and voltage data that looks like this:\n",
      "\n",
      "    voltage:\n",
      "    \n",
      "    -2.0\n",
      "    -1.0\n",
      "    0.0\n",
      "    1.0\n",
      "    2.0\n",
      "    \n",
      "    current:\n",
      "    \n",
      "    -1.0\n",
      "    -0.5\n",
      "    0.0\n",
      "    0.5\n",
      "    1.0\n",
      "\n",
      "So you could put that data into lists like"
     ]
    },
    {
     "cell_type": "code",
     "collapsed": true,
     "input": [
      "voltage_list = [-2.0, -1.0, 0.0, 1.0, 2.0]\n",
      "\n",
      "current_list = [-1.0, -0.5, 0.0, 0.5, 1.0]"
     ],
     "language": "python",
     "metadata": {},
     "outputs": [],
     "prompt_number": 1
    },
    {
     "cell_type": "markdown",
     "metadata": {},
     "source": [
      "obviously voltageList is of type list:"
     ]
    },
    {
     "cell_type": "code",
     "collapsed": true,
     "input": [
      "type(voltage_list)"
     ],
     "language": "python",
     "metadata": {},
     "outputs": [
      {
       "metadata": {},
       "output_type": "pyout",
       "prompt_number": 2,
       "text": [
        "list"
       ]
      }
     ],
     "prompt_number": 2
    },
    {
     "cell_type": "markdown",
     "metadata": {},
     "source": [
      "Python lists have the charming (annoying?) feature that they are indexed from zero (ask one of us later if you want to understand why). Therefore, to find the value of the first item in voltageList:"
     ]
    },
    {
     "cell_type": "code",
     "collapsed": true,
     "input": [
      "voltage_list[0]"
     ],
     "language": "python",
     "metadata": {},
     "outputs": [
      {
       "metadata": {},
       "output_type": "pyout",
       "prompt_number": 3,
       "text": [
        "-2.0"
       ]
      }
     ],
     "prompt_number": 3
    },
    {
     "cell_type": "markdown",
     "metadata": {},
     "source": [
      "And to find the value of the third item"
     ]
    },
    {
     "cell_type": "code",
     "collapsed": true,
     "input": [
      "voltage_list[2]"
     ],
     "language": "python",
     "metadata": {},
     "outputs": []
    },
    {
     "cell_type": "markdown",
     "metadata": {},
     "source": [
      "Lists can be indexed from the back using a negative index. The last item of currentList"
     ]
    },
    {
     "cell_type": "code",
     "collapsed": true,
     "input": [
      "current_list[-1]"
     ],
     "language": "python",
     "metadata": {},
     "outputs": []
    },
    {
     "cell_type": "markdown",
     "metadata": {},
     "source": [
      "and the next-to-last"
     ]
    },
    {
     "cell_type": "code",
     "collapsed": true,
     "input": [
      "current_list[-2]"
     ],
     "language": "python",
     "metadata": {},
     "outputs": []
    },
    {
     "cell_type": "markdown",
     "metadata": {},
     "source": [
      "You can \"slice\" items from within a list. Lets say we wanted the second through fourth items from voltageList"
     ]
    },
    {
     "cell_type": "code",
     "collapsed": true,
     "input": [
      "voltage_list[1:4]"
     ],
     "language": "python",
     "metadata": {},
     "outputs": []
    },
    {
     "cell_type": "markdown",
     "metadata": {},
     "source": [
      "Or from the third item to the end"
     ]
    },
    {
     "cell_type": "code",
     "collapsed": true,
     "input": [
      "voltage_list[2:]"
     ],
     "language": "python",
     "metadata": {},
     "outputs": []
    },
    {
     "cell_type": "markdown",
     "metadata": {},
     "source": [
      "and so on."
     ]
    },
    {
     "cell_type": "markdown",
     "metadata": {},
     "source": [
      "### Append and Extend\n",
      "\n",
      "\n",
      "\n",
      "Just like strings have methods, lists do too. IPython lets us do tab completion after a dot ('.') to see what an object has to offer. Try it now!"
     ]
    },
    {
     "cell_type": "code",
     "collapsed": true,
     "input": [
      "list."
     ],
     "language": "python",
     "metadata": {},
     "outputs": []
    },
    {
     "cell_type": "markdown",
     "metadata": {},
     "source": [
      "One useful method is append. Lets say we want to stick the following data on the end of both our lists:\n",
      "\n",
      "    voltage:\n",
      "    \n",
      "    3.0\n",
      "    4.0\n",
      "    \n",
      "    current:\n",
      "    \n",
      "    1.5\n",
      "    2.0\n",
      "\n",
      "If you want to append items to the end of a list, use the append method."
     ]
    },
    {
     "cell_type": "code",
     "collapsed": true,
     "input": [
      "voltage_list.append(3.)"
     ],
     "language": "python",
     "metadata": {},
     "outputs": []
    },
    {
     "cell_type": "code",
     "collapsed": true,
     "input": [
      "voltage_list.append(4.)"
     ],
     "language": "python",
     "metadata": {},
     "outputs": []
    },
    {
     "cell_type": "code",
     "collapsed": true,
     "input": [
      "voltage_list"
     ],
     "language": "python",
     "metadata": {},
     "outputs": []
    },
    {
     "cell_type": "markdown",
     "metadata": {},
     "source": [
      "You can see how that approach might be tedious in certain cases. If you want to concatenate a list onto the end of another one, use extend."
     ]
    },
    {
     "cell_type": "code",
     "collapsed": true,
     "input": [
      "current_list.extend([1.5, 2.0])"
     ],
     "language": "python",
     "metadata": {},
     "outputs": []
    },
    {
     "cell_type": "code",
     "collapsed": true,
     "input": [
      "current_list"
     ],
     "language": "python",
     "metadata": {},
     "outputs": []
    },
    {
     "cell_type": "markdown",
     "metadata": {},
     "source": [
      "### Length of Lists\n",
      "\n",
      "\n",
      "\n",
      "Sometimes you want to know how many items are in a list. Use the len command."
     ]
    },
    {
     "cell_type": "code",
     "collapsed": true,
     "input": [
      "len(voltage_list)"
     ],
     "language": "python",
     "metadata": {},
     "outputs": []
    },
    {
     "cell_type": "markdown",
     "metadata": {},
     "source": [
      "### Heterogeneous Data\n",
      "\n",
      "\n",
      "\n",
      "Lists can contain hetergeneous data."
     ]
    },
    {
     "cell_type": "code",
     "collapsed": true,
     "input": [
      "data_list = [\"experiment: current vs. voltage\",\\\n",
      "            \"run\", 47,\\\n",
      "            \"temperature\", 372.756,\\\n",
      "            \"current\", [-1.0, -0.5, 0.0, 0.5, 1.0],\n",
      "            \"voltage\", [-2.0, -1.0, 0.0, 1.0, 2.0]]"
     ],
     "language": "python",
     "metadata": {},
     "outputs": [],
     "prompt_number": 5
    },
    {
     "cell_type": "markdown",
     "metadata": {},
     "source": [
      "We've got strings, ints, floats, and even other lists in there. The slashes are there so we can continue on the next line. They aren't necessary but they can sometimes make things look better.\n"
     ]
    },
    {
     "cell_type": "code",
     "collapsed": true,
     "input": [
      "print data_list"
     ],
     "language": "python",
     "metadata": {},
     "outputs": [
      {
       "output_type": "stream",
       "stream": "stdout",
       "text": [
        "['experiment: current vs. voltage', 'run', 47, 'temperature', 372.756, 'current', [-1.0, -0.5, 0.0, 0.5, 1.0], 'voltage', [-2.0, -1.0, 0.0, 1.0, 2.0]]\n"
       ]
      }
     ],
     "prompt_number": 6
    },
    {
     "cell_type": "markdown",
     "metadata": {},
     "source": [
      "When defining a long list in a notebook or a file, it is often useful to put each field on its own line. I can make the code much more readable especially when parsing different data types."
     ]
    },
    {
     "cell_type": "code",
     "collapsed": false,
     "input": [
      "another_long_list = [\n",
      "    \"something\",\n",
      "    132,\n",
      "    23.5,\n",
      "    \"another long string\",\n",
      "    ['a','other','list'],\n",
      "    {'mydict':32},\n",
      "    ]"
     ],
     "language": "python",
     "metadata": {},
     "outputs": []
    },
    {
     "cell_type": "markdown",
     "metadata": {},
     "source": [
      " \n",
      "## Assigning Variables to Other Variables\n",
      "\n",
      "\n",
      "\n",
      "Something that might cause you headaches in the future is how python deals with assignment of one variable to another. When you set a variable equal to another, both variables point to the same thing. Changing the first one ends up changing the second. Be careful about this fact."
     ]
    },
    {
     "cell_type": "code",
     "collapsed": true,
     "input": [
      "a = [1,2]"
     ],
     "language": "python",
     "metadata": {},
     "outputs": [],
     "prompt_number": 7
    },
    {
     "cell_type": "code",
     "collapsed": true,
     "input": [
      "b = a"
     ],
     "language": "python",
     "metadata": {},
     "outputs": [],
     "prompt_number": 8
    },
    {
     "cell_type": "code",
     "collapsed": true,
     "input": [
      "a.append(10)"
     ],
     "language": "python",
     "metadata": {},
     "outputs": [],
     "prompt_number": 9
    },
    {
     "cell_type": "code",
     "collapsed": true,
     "input": [
      "b"
     ],
     "language": "python",
     "metadata": {},
     "outputs": [
      {
       "metadata": {},
       "output_type": "pyout",
       "prompt_number": 10,
       "text": [
        "[1, 2, 10]"
       ]
      }
     ],
     "prompt_number": 10
    },
    {
     "cell_type": "code",
     "collapsed": false,
     "input": [
      "# what will be the result of this?\n",
      "a is b"
     ],
     "language": "python",
     "metadata": {},
     "outputs": []
    },
    {
     "cell_type": "code",
     "collapsed": false,
     "input": [
      "## this will create a new object\n",
      "d = a + b"
     ],
     "language": "python",
     "metadata": {},
     "outputs": [],
     "prompt_number": 11
    },
    {
     "cell_type": "code",
     "collapsed": false,
     "input": [
      "## test if two items contain the same thing\n",
      "d == a + b"
     ],
     "language": "python",
     "metadata": {},
     "outputs": [
      {
       "metadata": {},
       "output_type": "pyout",
       "prompt_number": 12,
       "text": [
        "True"
       ]
      }
     ],
     "prompt_number": 12
    },
    {
     "cell_type": "code",
     "collapsed": false,
     "input": [
      "## test if two variables point to the same object\n",
      "d is a + b"
     ],
     "language": "python",
     "metadata": {},
     "outputs": [
      {
       "metadata": {},
       "output_type": "pyout",
       "prompt_number": 13,
       "text": [
        "False"
       ]
      }
     ],
     "prompt_number": 13
    },
    {
     "cell_type": "markdown",
     "metadata": {},
     "source": [
      "### Explanation:\n",
      "The above resolves to *False* because when you call `a + b` it generates a new object. So even though the contents are the same, it is referring to different objects.\n",
      "\n",
      "\n",
      "There's a ton more to know about lists, but lets press on. Check out the help / documentation linked from our [course README.md](https://github.com/dlab-berkeley/python-fundamentals/blob/master/README.md) for more info.\n"
     ]
    },
    {
     "cell_type": "markdown",
     "metadata": {},
     "source": [
      "\n",
      "## Reading From Files\n",
      "\n",
      "At this point it is useful to take a detour regarding files. Lets say you have a file with some current and voltage data and some metadata.\n",
      "\n",
      "```\n",
      "data.dat:\n",
      "\n",
      "experiment: current vs. voltage\n",
      "run: 47\n",
      "temperature: 372.756\n",
      "current: [-1.0, -0.5, 0.0, 0.5, 1.0]\n",
      "voltage: [-2.0, -1.0, 0.0, 1.0, 2.0]\n",
      "```\n",
      "\n",
      "This file should be in the same directory as these notebooks. If so, we can read this data into a list type variable pretty easily."
     ]
    },
    {
     "cell_type": "code",
     "collapsed": true,
     "input": [
      "f = open(\"data.dat\")"
     ],
     "language": "python",
     "metadata": {},
     "outputs": [],
     "prompt_number": 14
    },
    {
     "cell_type": "code",
     "collapsed": true,
     "input": [
      "ivdata = f.readlines()"
     ],
     "language": "python",
     "metadata": {},
     "outputs": [],
     "prompt_number": 15
    },
    {
     "cell_type": "code",
     "collapsed": true,
     "input": [
      "f.close()"
     ],
     "language": "python",
     "metadata": {},
     "outputs": [],
     "prompt_number": 16
    },
    {
     "cell_type": "code",
     "collapsed": true,
     "input": [
      "ivdata"
     ],
     "language": "python",
     "metadata": {},
     "outputs": [
      {
       "metadata": {},
       "output_type": "pyout",
       "prompt_number": 17,
       "text": [
        "['experiment: current vs. voltage\\n',\n",
        " 'run: 47\\n',\n",
        " 'temperature: 372.756\\n',\n",
        " 'current: [-1.0, -0.5, 0.0, 0.5, 1.0]\\n',\n",
        " 'voltage: [-2.0, -1.0, 0.0, 1.0, 2.0]\\n',\n",
        " '\\n']"
       ]
      }
     ],
     "prompt_number": 17
    },
    {
     "cell_type": "markdown",
     "metadata": {},
     "source": [
      "Right now the data in ivdata isn't in a particularly useful format, but you can imagine that with some additional programming we could straighten it out. We will eventually learn to do that easily!\n",
      "\n",
      "## Tuples\n",
      "\n",
      "Tuples are another of python's basic compound data types that are almost like lists. The difference is that a tuple is immutable; once you set the data in it, the tuple cannot be changed. You define a tuple as follows."
     ]
    },
    {
     "cell_type": "code",
     "collapsed": true,
     "input": [
      "tup = (\"red\", \"white\", \"blue\")"
     ],
     "language": "python",
     "metadata": {},
     "outputs": []
    },
    {
     "cell_type": "code",
     "collapsed": true,
     "input": [
      "type(tup)"
     ],
     "language": "python",
     "metadata": {},
     "outputs": []
    },
    {
     "cell_type": "markdown",
     "metadata": {},
     "source": [
      "You can slice and index the tuple exactly like you would a list. Tuples are used in the inner workings of python, and a tuple can be used as a key in a dictionary, whereas a list cannot as we will see in a moment.\n",
      "\n",
      "\n",
      "\n",
      "See if you can retrieve the third element of **tup**:"
     ]
    },
    {
     "cell_type": "code",
     "collapsed": true,
     "input": [
      " "
     ],
     "language": "python",
     "metadata": {},
     "outputs": []
    },
    {
     "cell_type": "code",
     "collapsed": false,
     "input": [
      "## What happens when you try to do the following? (Remember a tuple is immutable)\n",
      "\n",
      "tup[0] = 'aquamarine'"
     ],
     "language": "python",
     "metadata": {},
     "outputs": []
    },
    {
     "cell_type": "markdown",
     "metadata": {},
     "source": [
      "## Sets\n",
      "\n",
      "\n",
      "\n",
      "Most introductory python courses (including Codecademy) do not go over sets this early (or at all), but I've found this data type to be useful. The python set type is similar to the idea of a mathematical set: it is an unordered collection of unique things. Consider:"
     ]
    },
    {
     "cell_type": "code",
     "collapsed": false,
     "input": [
      "mystuff = [1,2,3,4,4,4,4,4,4,4] # I like fours, even if this is a little redundant\n",
      "my_unique_stuff = set(mystuff)"
     ],
     "language": "python",
     "metadata": {},
     "outputs": []
    },
    {
     "cell_type": "code",
     "collapsed": false,
     "input": [
      "## how many items are in my_unique_stuff?"
     ],
     "language": "python",
     "metadata": {},
     "outputs": []
    },
    {
     "cell_type": "code",
     "collapsed": true,
     "input": [
      "# Note: the {} notation for sets is new in python 2.7.x\n",
      "# For older pythons, you must use set(['apple', 'banana', ...])\n",
      "fruit = {\"apple\", \"banana\", \"pear\", \"banana\"}"
     ],
     "language": "python",
     "metadata": {},
     "outputs": [],
     "prompt_number": 18
    },
    {
     "cell_type": "markdown",
     "metadata": {},
     "source": [
      "Since sets contain only unique items, there's only one banana in the set fruit."
     ]
    },
    {
     "cell_type": "code",
     "collapsed": false,
     "input": [
      "print fruit\n",
      "## what do you think happens when you try to get the first item in this set?\n",
      "## fruit[0]"
     ],
     "language": "python",
     "metadata": {},
     "outputs": [
      {
       "output_type": "stream",
       "stream": "stdout",
       "text": [
        "set(['pear', 'banana', 'apple'])\n"
       ]
      }
     ],
     "prompt_number": 22
    },
    {
     "cell_type": "markdown",
     "metadata": {},
     "source": [
      "\n",
      "\n",
      "\n",
      "\n",
      "\n",
      "You can do things like intersections, unions, etc. on sets just like in math. Here's an example of an intersection of two sets (the common items in both sets)."
     ]
    },
    {
     "cell_type": "code",
     "collapsed": true,
     "input": [
      "firstBowl = {\"apple\", \"banana\", \"pear\", \"peach\"}"
     ],
     "language": "python",
     "metadata": {},
     "outputs": []
    },
    {
     "cell_type": "code",
     "collapsed": true,
     "input": [
      "secondBowl = {\"peach\", \"watermelon\", \"orange\", \"apple\"}"
     ],
     "language": "python",
     "metadata": {},
     "outputs": []
    },
    {
     "cell_type": "raw",
     "metadata": {},
     "source": [
      "Set operations can be performed with functions from the set class:"
     ]
    },
    {
     "cell_type": "code",
     "collapsed": true,
     "input": [
      "set.intersection(firstBowl, secondBowl)"
     ],
     "language": "python",
     "metadata": {},
     "outputs": []
    },
    {
     "cell_type": "raw",
     "metadata": {},
     "source": [
      "Or, you can use methods on one of your sets:"
     ]
    },
    {
     "cell_type": "code",
     "collapsed": false,
     "input": [
      "firstBowl.intersection(secondBowl)"
     ],
     "language": "python",
     "metadata": {},
     "outputs": []
    },
    {
     "cell_type": "markdown",
     "metadata": {},
     "source": [
      "You can check out more info using the help docs. We won't be returning to sets, but its good for you to know they exist.\n",
      "\n",
      "\n",
      "\n",
      "## Dictionaries\n",
      "\n",
      "\n",
      "\n",
      "Recall our file data.dat which contained our current-voltage data and also some metadata. We were able to import the data as a list, but clearly the list type is not the optimal choice for a data model. The dictionary is a much better choice. A python dictionary is a collection of key, value pairs. The key is a way to name the data, and the value is the data itself. Here's a way to create a dictionary that contains all the data in our data.dat file in a more sensible way than a list."
     ]
    },
    {
     "cell_type": "code",
     "collapsed": true,
     "input": [
      "data_dict = {\"experiment\": \"current vs. voltage\", \\\n",
      "            \"run\": 47, \\\n",
      "            \"temperature\": 372.756, \\\n",
      "            \"current\": [-1.0, -0.5, 0.0, 0.5, 1.0], \\\n",
      "            \"voltage\": [-2.0, -1.0, 0.0, 1.0, 2.0]}"
     ],
     "language": "python",
     "metadata": {},
     "outputs": [],
     "prompt_number": 23
    },
    {
     "cell_type": "code",
     "collapsed": false,
     "input": [
      "print data_dict"
     ],
     "language": "python",
     "metadata": {},
     "outputs": [
      {
       "output_type": "stream",
       "stream": "stdout",
       "text": [
        "{'current': [-1.0, -0.5, 0.0, 0.5, 1.0], 'experiment': 'current vs. voltage', 'run': 47, 'temperature': 372.756, 'voltage': [-2.0, -1.0, 0.0, 1.0, 2.0]}\n"
       ]
      }
     ],
     "prompt_number": 24
    },
    {
     "cell_type": "code",
     "collapsed": false,
     "input": [
      "# a dictionary has keys and values. You use the keys to access the values\n",
      "print data_dict.keys()\n",
      "print data_dict.values()"
     ],
     "language": "python",
     "metadata": {},
     "outputs": []
    },
    {
     "cell_type": "markdown",
     "metadata": {},
     "source": [
      "This model is clearly better because you no longer have to remember that the run number is in the second position of the list, you just refer directly to \"run\":"
     ]
    },
    {
     "cell_type": "code",
     "collapsed": true,
     "input": [
      "data_dict[\"run\"]"
     ],
     "language": "python",
     "metadata": {},
     "outputs": []
    },
    {
     "cell_type": "markdown",
     "metadata": {},
     "source": [
      "If you wanted the voltage data list:"
     ]
    },
    {
     "cell_type": "code",
     "collapsed": true,
     "input": [
      "data_dict[\"voltage\"]"
     ],
     "language": "python",
     "metadata": {},
     "outputs": []
    },
    {
     "cell_type": "markdown",
     "metadata": {},
     "source": [
      "Or perhaps you wanted the last element of the current data list"
     ]
    },
    {
     "cell_type": "code",
     "collapsed": true,
     "input": [
      "data_dict[\"current\"][-1]"
     ],
     "language": "python",
     "metadata": {},
     "outputs": []
    },
    {
     "cell_type": "markdown",
     "metadata": {},
     "source": [
      "Once a dictionary has been created, you can change the values of the data if you like."
     ]
    },
    {
     "cell_type": "code",
     "collapsed": true,
     "input": [
      "data_dict[\"temperature\"] = 3275.39"
     ],
     "language": "python",
     "metadata": {},
     "outputs": []
    },
    {
     "cell_type": "markdown",
     "metadata": {},
     "source": [
      "You can also add new keys to the dictionary.  Note that dictionaries are indexed with square braces, just like lists--they look the same, even though they're very different."
     ]
    },
    {
     "cell_type": "code",
     "collapsed": true,
     "input": [
      "data_dict[\"user\"] = \"Johann G. von Ulm\""
     ],
     "language": "python",
     "metadata": {},
     "outputs": []
    },
    {
     "cell_type": "markdown",
     "metadata": {},
     "source": [
      "Dictionaries, like strings, lists, and all the rest, have built-in methods. (We saw this above when we accessed the **keys** and **values**.\n",
      "\n",
      "You can also get a list of keys *and* values"
     ]
    },
    {
     "cell_type": "code",
     "collapsed": false,
     "input": [
      "data_dict.items()"
     ],
     "language": "python",
     "metadata": {},
     "outputs": []
    },
    {
     "cell_type": "markdown",
     "metadata": {},
     "source": [
      "One thing to be careful of, is an **inplace** method  dict.update().\n",
      "\n",
      "This also allows you to add something to your dictionary. It does **NOT** return a copy of the dictionary with the new key:value added. Instead it just updated your current variable."
     ]
    },
    {
     "cell_type": "code",
     "collapsed": false,
     "input": [
      "## so look at this example\n",
      "new_data_dict = data_dict.update({'newthing':42})\n",
      "## What does the variable **new_data_dict** contain??  Why?\n",
      "\n",
      "## What does data_dict contain??\n",
      "\n",
      "\n",
      "# What would happen if you did this?\n",
      "# data_dict = data_dict.update({'newkey':'newvalue'})\n"
     ],
     "language": "python",
     "metadata": {},
     "outputs": []
    }
   ],
   "metadata": {}
  }
 ]
}