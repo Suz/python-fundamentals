{
 "metadata": {
  "name": ""
 },
 "nbformat": 3,
 "nbformat_minor": 0,
 "worksheets": [
  {
   "cells": [
    {
     "cell_type": "markdown",
     "metadata": {},
     "source": [
      "# Lists and Functions\n",
      "\n",
      "This is not really a separate topic: it is a great integration of two important topics. In particular, we'll point out one gotcha.\n",
      "\n",
      "We're used to functions having no effect on the variables that we pass in:"
     ]
    },
    {
     "cell_type": "code",
     "collapsed": false,
     "input": [
      "# lets remember something we already explored\n",
      "\n",
      "a = [0,1]\n",
      "b = a\n",
      "a[0] = 42\n",
      "# what does b contain??"
     ],
     "language": "python",
     "metadata": {},
     "outputs": []
    },
    {
     "cell_type": "markdown",
     "metadata": {},
     "source": [
      "You can run into the same issue when working with functions\n",
      "\n",
      "Consider the function below, **val** is defined in the function, so it does **NOT** exist outside of the function.  "
     ]
    },
    {
     "cell_type": "code",
     "collapsed": false,
     "input": [
      "x = 3\n",
      "\n",
      "def add_3(val):\n",
      "    val = val + 3\n",
      "    return val\n",
      "\n",
      "print 'add_3(x) ==', add_3(x)\n",
      "# Above, the function only modified it's own variable, so x stays the same\n",
      "print 'x still is: ', x"
     ],
     "language": "python",
     "metadata": {},
     "outputs": [
      {
       "output_type": "stream",
       "stream": "stdout",
       "text": [
        "add_3(x) == 6\n",
        "x still is:  3\n"
       ]
      }
     ],
     "prompt_number": 6
    },
    {
     "cell_type": "code",
     "collapsed": true,
     "input": [
      "## What happens if you try to print val?\n"
     ],
     "language": "python",
     "metadata": {},
     "outputs": [],
     "prompt_number": 5
    },
    {
     "cell_type": "markdown",
     "metadata": {},
     "source": [
      "But once we start using **mutable** data types like lists, things become tricky:"
     ]
    },
    {
     "cell_type": "code",
     "collapsed": false,
     "input": [
      "x = [1, 2, 3, 5]\n",
      "\n",
      "def add_3(val):\n",
      "    val[2] = val[2] + 3\n",
      "    return val\n",
      "\n",
      "print add_3(x)\n",
      "# Now, our function is modifying the contents of the list, and both variables still point to the same list\n",
      "# So the list x refers to *is* modified\n",
      "print x"
     ],
     "language": "python",
     "metadata": {},
     "outputs": []
    },
    {
     "cell_type": "markdown",
     "metadata": {},
     "source": [
      "So, the issue here is our function is no longer changing val so that it points at a new \"thing.\" Instead, we're taking the list that val points to (the same list x points to) and modifying it.\n",
      "\n",
      "Tricky, but important!"
     ]
    },
    {
     "cell_type": "markdown",
     "metadata": {},
     "source": [
      "## Lets explore functions a little closer\n",
      "\n"
     ]
    },
    {
     "cell_type": "code",
     "collapsed": false,
     "input": [
      "## functions do not need to take input\n",
      "\n",
      "def print_hello():\n",
      "    print \"hello\"\n",
      "    "
     ],
     "language": "python",
     "metadata": {},
     "outputs": []
    },
    {
     "cell_type": "code",
     "collapsed": false,
     "input": [
      "## does print_hello  return anything?\n",
      "## ret = print_hello()\n"
     ],
     "language": "python",
     "metadata": {},
     "outputs": []
    },
    {
     "cell_type": "code",
     "collapsed": false,
     "input": [
      "## we can update our function to take input\n",
      "## and add a doc string so we can see what it does\n",
      "\n",
      "def say_hello(input):\n",
      "    \"\"\" Prints a kind greeting to our input\n",
      "    returns nothing\"\"\"\n",
      "    print 'Hello ', input\n",
      "    \n",
      "say_hello('Penelope')"
     ],
     "language": "python",
     "metadata": {},
     "outputs": []
    },
    {
     "cell_type": "code",
     "collapsed": false,
     "input": [
      "## pass out new function a variety of objects, how does it handle it\n",
      "## eg say_hello({'crazy_dictionary': [1,2,3,4]})\n"
     ],
     "language": "python",
     "metadata": {},
     "outputs": []
    },
    {
     "cell_type": "code",
     "collapsed": false,
     "input": [
      "## We can also give our function default values, and explicity tell it to return nothing\n",
      "\n",
      "def say_long_hello(firstname, lastname = 'Smith'):\n",
      "    \"\"\" Say a kind hello to firstname, lastname\n",
      "    (default lastname is 'Smith')\"\"\"\n",
      "    print 'Hello', firstname, lastname\n",
      "    return None"
     ],
     "language": "python",
     "metadata": {},
     "outputs": [],
     "prompt_number": 7
    },
    {
     "cell_type": "code",
     "collapsed": false,
     "input": [
      "## try it out by passing just a firstname\n",
      "\n",
      "## try again by passing a firstname and a lastname\n",
      "\n"
     ],
     "language": "python",
     "metadata": {},
     "outputs": []
    },
    {
     "cell_type": "code",
     "collapsed": false,
     "input": [
      "## We can also have it return something\n",
      "def say_odd_hello(firstname, junk, lastname=\"Smith\"):\n",
      "    \"\"\"Print a kind hello to firstname, lastname, identify junk, \n",
      "    and return junk\"\"\"\n",
      "    print 'Hello', firstname, lastname\n",
      "    print 'This is your junk:', junk\n",
      "    return junk"
     ],
     "language": "python",
     "metadata": {},
     "outputs": [],
     "prompt_number": 9
    },
    {
     "cell_type": "code",
     "collapsed": false,
     "input": [
      "## what happens when you change the order of your inputs so the default variable\n",
      "## lastname = \"Smith\", comes before undefined junk?\n",
      "\n"
     ],
     "language": "python",
     "metadata": {},
     "outputs": []
    }
   ],
   "metadata": {}
  }
 ]
}