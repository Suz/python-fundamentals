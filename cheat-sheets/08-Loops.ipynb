{
 "metadata": {
  "name": ""
 },
 "nbformat": 3,
 "nbformat_minor": 0,
 "worksheets": [
  {
   "cells": [
    {
     "cell_type": "markdown",
     "metadata": {},
     "source": [
      "# Python: Flow Control\n",
      "\n",
      "Materials by: [John Blischak](https://github.com/jdblischak \"GitHub\") and other Software Carpentry instructors (Joshua R. Smith, Milad Fatenejad, Katy Huff, Tommy Guy and many more)\n",
      "\n",
      "In this lesson we will cover howto automate repetitive tasks using loops."
     ]
    },
    {
     "cell_type": "markdown",
     "metadata": {},
     "source": [
      "# Loops\n",
      "Loops come in two flavors: `while` and `for`."
     ]
    },
    {
     "cell_type": "code",
     "collapsed": true,
     "input": [
      "fruits = ['apples', 'oranges', 'pears', 'bananas']\n",
      "i = 0\n",
      "while i < len(fruits):\n",
      "    print fruits[i]\n",
      "    i = i + 1"
     ],
     "language": "python",
     "metadata": {},
     "outputs": [
      {
       "output_type": "stream",
       "stream": "stdout",
       "text": [
        "apples\n",
        "oranges\n",
        "pears\n",
        "bananas\n"
       ]
      }
     ],
     "prompt_number": 2
    },
    {
     "cell_type": "code",
     "collapsed": false,
     "input": [
      "# What is the final value of i ?\n",
      "\n",
      "# what happens if you initialize i=10? What will print?\n"
     ],
     "language": "python",
     "metadata": {},
     "outputs": []
    },
    {
     "cell_type": "code",
     "collapsed": true,
     "input": [
      "# a for loop will pull the items out of your container, (one at a time)\n",
      "# and put their values into the temporary variable fruit\n",
      "for fruit in fruits:\n",
      "    print fruit"
     ],
     "language": "python",
     "metadata": {},
     "outputs": []
    },
    {
     "cell_type": "code",
     "collapsed": false,
     "input": [
      "# What is the current value of fruit?\n",
      "\n"
     ],
     "language": "python",
     "metadata": {},
     "outputs": []
    },
    {
     "cell_type": "code",
     "collapsed": false,
     "input": [
      "## Just to be explicit\n",
      "print fruits\n",
      "\n",
      "for fruit in fruits:\n",
      "    print fruit\n",
      "print 'in the end fruit is ', fruit"
     ],
     "language": "python",
     "metadata": {},
     "outputs": []
    },
    {
     "cell_type": "code",
     "collapsed": true,
     "input": [
      "# While you could use range to get the index values for each fruit like this\n",
      "for val in range(len(fruits)):\n",
      "    print val, fruits[val]\n",
      "    \n",
      "## python has a better way using enumerate, which counts your items for you \n",
      "# and is more readable\n",
      "print ## This will print a blank line\n",
      "print 'Now using enumerate!!'\n",
      "for val, current_fruit in enumerate(fruits):\n",
      "    print current_fruit, val\n",
      "    "
     ],
     "language": "python",
     "metadata": {},
     "outputs": [
      {
       "output_type": "stream",
       "stream": "stdout",
       "text": [
        "0 apples\n",
        "1 oranges\n",
        "2 pears\n",
        "3 bananas\n",
        "\n",
        "Now using enumerate!!\n",
        "apples 0\n",
        "oranges 1\n",
        "pears 2\n",
        "bananas 3\n"
       ]
      }
     ],
     "prompt_number": 6
    },
    {
     "cell_type": "code",
     "collapsed": true,
     "input": [
      "# Use zip to iterate over two lists at once\n",
      "fruits = ['apples', 'oranges', 'pears', 'bananas']\n",
      "prices = [0.49, 0.99, 1.49, 0.32]\n",
      "for fruit, price in zip(fruits, prices):\n",
      "    print fruit, \"cost\", price, \"each\"\n",
      "    "
     ],
     "language": "python",
     "metadata": {},
     "outputs": []
    },
    {
     "cell_type": "code",
     "collapsed": false,
     "input": [
      "# Use \"items\" to iterate over a dictionary\n",
      "# Note the order is non-deterministic \n",
      "# (eg which fruit:price will print first?)\n",
      "prices = {'apples': 0.49, 'oranges': 0.99, 'pears': 1.49, 'bananas': 0.32}\n",
      "for fruit, price in prices.items():\n",
      "    print fruit, \"cost\", price, \"each\"\n",
      "          "
     ],
     "language": "python",
     "metadata": {},
     "outputs": [
      {
       "output_type": "stream",
       "stream": "stdout",
       "text": [
        "pears cost 1.49 each\n",
        "apples cost 0.49 each\n",
        "oranges cost 0.99 each\n",
        "bananas cost 0.32 each\n"
       ]
      }
     ],
     "prompt_number": 7
    },
    {
     "cell_type": "code",
     "collapsed": true,
     "input": [
      "# Calculating a sum\n",
      "values = [1254, 95818, 61813541, 1813, 4]\n",
      "sum = 0\n",
      "for x in values:\n",
      "    sum = sum + x\n",
      "sum"
     ],
     "language": "python",
     "metadata": {},
     "outputs": []
    },
    {
     "cell_type": "markdown",
     "metadata": {},
     "source": [
      "## Short Exercise\n",
      "Using a loop, calculate the factorial of 42 (the product of all integers up to and including 42)."
     ]
    },
    {
     "cell_type": "code",
     "collapsed": false,
     "input": [
      "## You have been seeing how tests can help you...so lets write a test\n",
      "\n",
      "def test_myfactorial():\n",
      "    input_val = 6\n",
      "    ## we know 6! = 6 X 5 X 4 X 3 X 2 X 1\n",
      "    expected_result = 6 * 5 * 4 * 3 * 2 * 1\n",
      "    res = myfactorial(6)\n",
      "    assert res == expected_result"
     ],
     "language": "python",
     "metadata": {},
     "outputs": [],
     "prompt_number": 9
    },
    {
     "cell_type": "code",
     "collapsed": false,
     "input": [
      "## since we have not defined myfactorial, this will FAIL, and raise an Exception\n",
      "test_myfactorial()"
     ],
     "language": "python",
     "metadata": {},
     "outputs": [
      {
       "ename": "NameError",
       "evalue": "global name 'myfactorial' is not defined",
       "output_type": "pyerr",
       "traceback": [
        "\u001b[0;31m---------------------------------------------------------------------------\u001b[0m\n\u001b[0;31mNameError\u001b[0m                                 Traceback (most recent call last)",
        "\u001b[0;32m<ipython-input-10-4fdfeed1a3ee>\u001b[0m in \u001b[0;36m<module>\u001b[0;34m()\u001b[0m\n\u001b[1;32m      1\u001b[0m \u001b[0;31m## since we have not defined myfactorial, this will FAIL, and raise an Exception\u001b[0m\u001b[0;34m\u001b[0m\u001b[0;34m\u001b[0m\u001b[0m\n\u001b[0;32m----> 2\u001b[0;31m \u001b[0mtest_myfactorial\u001b[0m\u001b[0;34m(\u001b[0m\u001b[0;34m)\u001b[0m\u001b[0;34m\u001b[0m\u001b[0m\n\u001b[0m",
        "\u001b[0;32m<ipython-input-9-9e663bf42d73>\u001b[0m in \u001b[0;36mtest_myfactorial\u001b[0;34m()\u001b[0m\n\u001b[1;32m      5\u001b[0m     \u001b[0;31m## we know 6! = 6 X 5 X 4 X 3 X 2 X 1\u001b[0m\u001b[0;34m\u001b[0m\u001b[0;34m\u001b[0m\u001b[0m\n\u001b[1;32m      6\u001b[0m     \u001b[0mexpected_result\u001b[0m \u001b[0;34m=\u001b[0m \u001b[0;36m6\u001b[0m \u001b[0;34m*\u001b[0m \u001b[0;36m5\u001b[0m \u001b[0;34m*\u001b[0m \u001b[0;36m4\u001b[0m \u001b[0;34m*\u001b[0m \u001b[0;36m3\u001b[0m \u001b[0;34m*\u001b[0m \u001b[0;36m2\u001b[0m \u001b[0;34m*\u001b[0m \u001b[0;36m1\u001b[0m\u001b[0;34m\u001b[0m\u001b[0m\n\u001b[0;32m----> 7\u001b[0;31m     \u001b[0mres\u001b[0m \u001b[0;34m=\u001b[0m \u001b[0mmyfactorial\u001b[0m\u001b[0;34m(\u001b[0m\u001b[0;36m6\u001b[0m\u001b[0;34m)\u001b[0m\u001b[0;34m\u001b[0m\u001b[0m\n\u001b[0m\u001b[1;32m      8\u001b[0m     \u001b[0;32massert\u001b[0m \u001b[0mres\u001b[0m \u001b[0;34m==\u001b[0m \u001b[0mexpected_result\u001b[0m\u001b[0;34m\u001b[0m\u001b[0m\n",
        "\u001b[0;31mNameError\u001b[0m: global name 'myfactorial' is not defined"
       ]
      }
     ],
     "prompt_number": 10
    },
    {
     "cell_type": "code",
     "collapsed": false,
     "input": [
      "## Now you need to create myfactorial (any input) so our test doesn't raise an exception\n",
      "## NOTE: `pass` below is just a placeholder, you need to delete it and replace with code\n",
      "##       to calculate the factorial of a given integer\n",
      "##  HINT:\n",
      "## range(2)\n",
      "## [0,1]\n",
      "\n",
      "def myfactorial(x):\n",
      "    \"\"\" calculates x! (x factorial) and returns result\"\"\"\n",
      "    pass"
     ],
     "language": "python",
     "metadata": {},
     "outputs": []
    },
    {
     "cell_type": "code",
     "collapsed": false,
     "input": [
      "## now watch your test pass!!!\n",
      "test_myfactorial()"
     ],
     "language": "python",
     "metadata": {},
     "outputs": []
    },
    {
     "cell_type": "markdown",
     "metadata": {},
     "source": [
      "#### Woo Hoo!!\n",
      "You just did **test-driven development**! Good job!"
     ]
    },
    {
     "cell_type": "markdown",
     "metadata": {},
     "source": [
      "## break, continue, and else\n",
      "\n",
      "A break statement cuts off a loop from within an inner loop. It helps\n",
      "avoid infinite loops by cutting off loops when they're clearly going\n",
      "nowhere."
     ]
    },
    {
     "cell_type": "code",
     "collapsed": true,
     "input": [
      "reasonable = 10\n",
      "for n in range(1,2000):\n",
      "    if n == reasonable :\n",
      "        break\n",
      "    print n"
     ],
     "language": "python",
     "metadata": {},
     "outputs": []
    },
    {
     "cell_type": "markdown",
     "metadata": {},
     "source": [
      "Something you might want to do instead of breaking is to continue to the\n",
      "next iteration of a loop, giving up on the current one."
     ]
    },
    {
     "cell_type": "code",
     "collapsed": true,
     "input": [
      "reasonable = 10\n",
      "for n in range(1,20):\n",
      "    if n == reasonable :\n",
      "      continue\n",
      "    print n"
     ],
     "language": "python",
     "metadata": {},
     "outputs": []
    },
    {
     "cell_type": "markdown",
     "metadata": {},
     "source": [
      "What is the difference between the output of these two?"
     ]
    },
    {
     "cell_type": "markdown",
     "metadata": {},
     "source": [
      "Working with files isn't covered, for example, until Lesson 12 in Codecademy. However, in the interest of getting to interesting ways to deal with data, we introduce the basics here!\n",
      "\n",
      "# Reading from a file"
     ]
    },
    {
     "cell_type": "code",
     "collapsed": true,
     "input": [
      "less example.txt"
     ],
     "language": "python",
     "metadata": {},
     "outputs": []
    },
    {
     "cell_type": "code",
     "collapsed": true,
     "input": [
      "my_file = open(\"example.txt\")\n",
      "for line in my_file:\n",
      "    print line.strip()\n",
      "my_file.close()"
     ],
     "language": "python",
     "metadata": {},
     "outputs": []
    },
    {
     "cell_type": "markdown",
     "metadata": {},
     "source": [
      "# Writing to a file"
     ]
    },
    {
     "cell_type": "code",
     "collapsed": true,
     "input": [
      "new_file = open(\"example2.txt\", \"w\")\n",
      "dwight = ['bears', 'beets', 'Battlestar Galactica']\n",
      "for i in dwight:\n",
      "    new_file.write(i + '\\n')\n",
      "new_file.close()"
     ],
     "language": "python",
     "metadata": {},
     "outputs": []
    },
    {
     "cell_type": "code",
     "collapsed": true,
     "input": [
      "less example2.txt"
     ],
     "language": "python",
     "metadata": {},
     "outputs": []
    },
    {
     "cell_type": "markdown",
     "metadata": {},
     "source": [
      "# Longer Exercise: Convert genotypes\n",
      "\n",
      "If most of this material is brand new to you, your goal is to complete Part 1. If you are more experienced, please move on to Part 2 and Part 3. And don't forget to talk to your neighbor!\n",
      "\n",
      "### Motivation:\n",
      "\n",
      "A biologist is interested in the genetic basis of height. She measures the heights of many subjects and sends off their DNA samples to a core for genotyping arrays. These arrays determine the DNA bases at the variable sites of the genome (known as single nucleotide polymorphisms, or SNPs). Since humans are diploid, i.e. have two of each chromosome, each data point will be two DNA bases corresponding to the two chromosomes in each individual. At each SNP, there will be only three possible genotypes, e.g. AA, AG, GG for an A/G SNP. In order to test the correlation between a SNP genotype and height, she wants to perform a regression with an additive genetic model. However, she cannot do this with the data in the current form. She needs to convert the genotypes, e.g. AA, AG, and GG, to the numbers 0, 1, and 2, respectively (in the example the number corresponds the number of G bases the person has at that SNP). Since she has too much data to do this manually, e.g. in Excel, she comes to you for ideas of how to efficiently transform the data."
     ]
    },
    {
     "cell_type": "markdown",
     "metadata": {},
     "source": [
      "## Part 1:\n",
      "Create a new list which has the converted genotype for each subject ('AA' -> 0, 'AG' -> 1, 'GG' -> 2)."
     ]
    },
    {
     "cell_type": "code",
     "collapsed": true,
     "input": [
      "genos = ['AA', 'GG', 'AG', 'AG', 'GG']\n",
      "genos_new = []\n",
      "# Use your knowledge of if/else statements and loop structures below."
     ],
     "language": "python",
     "metadata": {},
     "outputs": []
    },
    {
     "cell_type": "markdown",
     "metadata": {},
     "source": [
      "Check your work:"
     ]
    },
    {
     "cell_type": "code",
     "collapsed": false,
     "input": [
      "genos_new == [0, 2, 1, 1, 2]"
     ],
     "language": "python",
     "metadata": {},
     "outputs": []
    },
    {
     "cell_type": "markdown",
     "metadata": {},
     "source": [
      "## Part 2:\n",
      "Sometimes there are errors and the genotype cannot be determined. Adapt your code from above to deal with this problem (in this example missing data is assigned NA for \"Not Available\")."
     ]
    },
    {
     "cell_type": "code",
     "collapsed": true,
     "input": [
      "genos_w_missing = ['AA', 'NA', 'GG', 'AG', 'AG', 'GG', 'NA']\n",
      "genos_w_missing_new = []\n",
      "# The missing data should not be converted to a number, but remain 'NA' in the new list"
     ],
     "language": "python",
     "metadata": {},
     "outputs": []
    },
    {
     "cell_type": "markdown",
     "metadata": {},
     "source": [
      "Check your work:"
     ]
    },
    {
     "cell_type": "code",
     "collapsed": false,
     "input": [
      "genos_w_missing_new == [0, 'NA', 2, 1, 1, 2, 'NA']"
     ],
     "language": "python",
     "metadata": {},
     "outputs": []
    }
   ],
   "metadata": {}
  }
 ]
}